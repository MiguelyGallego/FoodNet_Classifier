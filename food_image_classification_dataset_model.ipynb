{
  "cells": [
    {
      "cell_type": "code",
      "execution_count": null,
      "metadata": {
        "colab": {
          "base_uri": "https://localhost:8080/"
        },
        "id": "mymci0tVFDzT",
        "outputId": "8742d614-334d-4fa7-f328-78f54072e78b"
      },
      "outputs": [
        {
          "output_type": "stream",
          "name": "stdout",
          "text": [
            "Collecting opendatasets\n",
            "  Downloading opendatasets-0.1.22-py3-none-any.whl (15 kB)\n",
            "Requirement already satisfied: tqdm in /usr/local/lib/python3.10/dist-packages (from opendatasets) (4.66.1)\n",
            "Requirement already satisfied: kaggle in /usr/local/lib/python3.10/dist-packages (from opendatasets) (1.5.16)\n",
            "Requirement already satisfied: click in /usr/local/lib/python3.10/dist-packages (from opendatasets) (8.1.7)\n",
            "Requirement already satisfied: six>=1.10 in /usr/local/lib/python3.10/dist-packages (from kaggle->opendatasets) (1.16.0)\n",
            "Requirement already satisfied: certifi in /usr/local/lib/python3.10/dist-packages (from kaggle->opendatasets) (2023.7.22)\n",
            "Requirement already satisfied: python-dateutil in /usr/local/lib/python3.10/dist-packages (from kaggle->opendatasets) (2.8.2)\n",
            "Requirement already satisfied: requests in /usr/local/lib/python3.10/dist-packages (from kaggle->opendatasets) (2.31.0)\n",
            "Requirement already satisfied: python-slugify in /usr/local/lib/python3.10/dist-packages (from kaggle->opendatasets) (8.0.1)\n",
            "Requirement already satisfied: urllib3 in /usr/local/lib/python3.10/dist-packages (from kaggle->opendatasets) (2.0.4)\n",
            "Requirement already satisfied: bleach in /usr/local/lib/python3.10/dist-packages (from kaggle->opendatasets) (6.0.0)\n",
            "Requirement already satisfied: webencodings in /usr/local/lib/python3.10/dist-packages (from bleach->kaggle->opendatasets) (0.5.1)\n",
            "Requirement already satisfied: text-unidecode>=1.3 in /usr/local/lib/python3.10/dist-packages (from python-slugify->kaggle->opendatasets) (1.3)\n",
            "Requirement already satisfied: charset-normalizer<4,>=2 in /usr/local/lib/python3.10/dist-packages (from requests->kaggle->opendatasets) (3.2.0)\n",
            "Requirement already satisfied: idna<4,>=2.5 in /usr/local/lib/python3.10/dist-packages (from requests->kaggle->opendatasets) (3.4)\n",
            "Installing collected packages: opendatasets\n",
            "Successfully installed opendatasets-0.1.22\n"
          ]
        }
      ],
      "source": [
        "!pip install opendatasets"
      ]
    },
    {
      "cell_type": "code",
      "execution_count": null,
      "metadata": {
        "id": "DeIXLUYlFP28"
      },
      "outputs": [],
      "source": [
        "import opendatasets as od\n",
        "import os\n",
        "\n",
        "import matplotlib.pyplot as plt\n",
        "import random\n",
        "from PIL import Image\n",
        "\n",
        "from tensorflow.keras.preprocessing.image import ImageDataGenerator\n",
        "\n",
        "from sklearn.preprocessing import LabelEncoder\n",
        "\n",
        "from sklearn.model_selection import train_test_split\n",
        "\n",
        "import tensorflow as tf\n",
        "from tensorflow.keras.applications import VGG19\n",
        "\n",
        "from tensorflow.keras.models import Model, load_model\n",
        "from tensorflow.keras.layers import Dense, GlobalAveragePooling2D\n",
        "\n",
        "import pandas as pd\n",
        "import numpy as np"
      ]
    },
    {
      "cell_type": "code",
      "execution_count": null,
      "metadata": {
        "colab": {
          "base_uri": "https://localhost:8080/"
        },
        "id": "pt4hgr_NFTal",
        "outputId": "97cd49c8-de66-4a41-a63d-8def9cfec883"
      },
      "outputs": [
        {
          "output_type": "stream",
          "name": "stdout",
          "text": [
            "Please provide your Kaggle credentials to download this dataset. Learn more: http://bit.ly/kaggle-creds\n",
            "Your Kaggle username: miguelgallego\n",
            "Your Kaggle Key: ··········\n",
            "Downloading food-image-classification-dataset.zip to ./food-image-classification-dataset\n"
          ]
        },
        {
          "output_type": "stream",
          "name": "stderr",
          "text": [
            "100%|██████████| 1.68G/1.68G [00:54<00:00, 33.0MB/s]\n"
          ]
        },
        {
          "output_type": "stream",
          "name": "stdout",
          "text": [
            "\n"
          ]
        }
      ],
      "source": [
        "# {\"username\":\"miguelgallego\",\"key\":\"6a7a2546d0b0a5683db1abd67fc0380c\"}\n",
        "dataset_link = \"https://www.kaggle.com/datasets/harishkumardatalab/food-image-classification-dataset\"\n",
        "od.download(dataset_link)"
      ]
    },
    {
      "cell_type": "code",
      "execution_count": null,
      "metadata": {
        "colab": {
          "base_uri": "https://localhost:8080/"
        },
        "id": "DfIWUYbtGNUO",
        "outputId": "c76fca82-46a6-47ab-9dbd-9c143c97e044"
      },
      "outputs": [
        {
          "output_type": "stream",
          "name": "stdout",
          "text": [
            "Contenido de la carpeta principal:\n",
            "['Hot Dog', 'sushi', 'dal_makhani', 'pizza', 'pav_bhaji', 'omelette', 'burger', 'momos', 'masala_dosa', 'Baked Potato', 'Taco', 'butter_naan', 'chai', 'paani_puri', 'Donut', 'samosa', 'jalebi', 'kulfi', 'fried_rice', 'Fries', 'Sandwich', 'pakode', 'cheesecake', 'chole_bhature', 'Crispy Chicken', 'ice_cream', 'Taquito', 'kadai_paneer', 'idli', 'chicken_curry', 'kaathi_rolls', 'chapati', 'dhokla', 'apple_pie']\n"
          ]
        }
      ],
      "source": [
        "# Ruta de la carpeta principal del conjunto de datos\n",
        "dataset_dir = \"/content/food-image-classification-dataset/Food Classification dataset\"\n",
        "\n",
        "# Lista de carpetas dentro de la carpeta principal\n",
        "subdirectories = os.listdir(dataset_dir)\n",
        "print(\"Contenido de la carpeta principal:\")\n",
        "print(subdirectories)"
      ]
    },
    {
      "cell_type": "code",
      "execution_count": null,
      "metadata": {
        "colab": {
          "base_uri": "https://localhost:8080/"
        },
        "id": "dAnV3FOLu1zk",
        "outputId": "bf7bc2f3-83b4-45db-be6a-73c957ca1722"
      },
      "outputs": [
        {
          "output_type": "execute_result",
          "data": {
            "text/plain": [
              "['Hot Dog', 'sushi', 'dal_makhani']"
            ]
          },
          "metadata": {},
          "execution_count": 5
        }
      ],
      "source": [
        "# Lista de clases de alimentos\n",
        "classes = subdirectories\n",
        "classes[:3]"
      ]
    },
    {
      "cell_type": "code",
      "execution_count": null,
      "metadata": {
        "id": "C3W-7k0Xu2ll"
      },
      "outputs": [],
      "source": [
        "# Directorio raíz del conjunto de datos\n",
        "dataset_root = \"/content/food-image-classification-dataset/Food Classification dataset\"\n",
        "\n",
        "# # Muestra ejemplos de imágenes de cada clase\n",
        "# num_examples_per_class = 3\n",
        "# for food_class in classes:\n",
        "#     class_dir = os.path.join(dataset_root, food_class)\n",
        "#     image_files = os.listdir(class_dir)\n",
        "#     random.shuffle(image_files)  # Baraja las imágenes para mostrar ejemplos aleatorios\n",
        "#     plt.figure(figsize=(12, 4))\n",
        "#     for i in range(num_examples_per_class):\n",
        "#         img_path = os.path.join(class_dir, image_files[i])\n",
        "#         img = Image.open(img_path)\n",
        "#         plt.subplot(1, num_examples_per_class, i + 1)\n",
        "#         plt.imshow(img)\n",
        "#         plt.title(food_class)\n",
        "#     plt.show()\n"
      ]
    },
    {
      "cell_type": "code",
      "execution_count": null,
      "metadata": {
        "colab": {
          "base_uri": "https://localhost:8080/",
          "height": 688
        },
        "id": "2NWlD7vEvwdp",
        "outputId": "d9601b04-7583-4aba-d4f5-547bca7e25b5"
      },
      "outputs": [
        {
          "output_type": "display_data",
          "data": {
            "text/plain": [
              "<Figure size 1000x600 with 1 Axes>"
            ],
            "image/png": "[encoded data removed]"
          },
          "metadata": {}
        },
        {
          "output_type": "stream",
          "name": "stdout",
          "text": [
            "\n",
            "Número total de imágen: 23873\n"
          ]
        }
      ],
      "source": [
        "# Calcula el número de imágenes por clase\n",
        "num_images_per_class = {food_class: len(os.listdir(os.path.join(dataset_root, food_class))) for food_class in classes}\n",
        "# print(len(os.listdir(os.path.join(dataset_root, food_class)))for food_class in classes)\n",
        "\n",
        "# Muestra la distribución de clases\n",
        "plt.figure(figsize=(10, 6))\n",
        "plt.bar(num_images_per_class.keys(), num_images_per_class.values())\n",
        "plt.xlabel('Clase de Alimento')\n",
        "plt.ylabel('Número de Imágenes')\n",
        "plt.title('Distribución de Clases de Alimentos')\n",
        "plt.xticks(rotation=90)\n",
        "plt.show()\n",
        "\n",
        "n_images = sum(num_images_per_class.values())\n",
        "print(f\"\\nNúmero total de imágen: {n_images}\")"
      ]
    },
    {
      "cell_type": "code",
      "source": [
        "# Calcula el número de imágenes por clase\n",
        "num_images_per_class = {food_class: len(os.listdir(os.path.join(dataset_root, food_class))) for food_class in classes}\n",
        "num_images_per_class"
      ],
      "metadata": {
        "colab": {
          "base_uri": "https://localhost:8080/"
        },
        "id": "Iy1e72JyHuxH",
        "outputId": "1e14c0d8-6ae6-4835-e1cb-1c2ff631011f"
      },
      "execution_count": null,
      "outputs": [
        {
          "output_type": "execute_result",
          "data": {
            "text/plain": [
              "{'Hot Dog': 1548,\n",
              " 'sushi': 1000,\n",
              " 'dal_makhani': 295,\n",
              " 'pizza': 275,\n",
              " 'pav_bhaji': 305,\n",
              " 'omelette': 1000,\n",
              " 'burger': 331,\n",
              " 'momos': 323,\n",
              " 'masala_dosa': 273,\n",
              " 'Baked Potato': 1500,\n",
              " 'Taco': 1500,\n",
              " 'butter_naan': 307,\n",
              " 'chai': 344,\n",
              " 'paani_puri': 144,\n",
              " 'Donut': 1500,\n",
              " 'samosa': 244,\n",
              " 'jalebi': 288,\n",
              " 'kulfi': 214,\n",
              " 'fried_rice': 350,\n",
              " 'Fries': 1500,\n",
              " 'Sandwich': 1500,\n",
              " 'pakode': 269,\n",
              " 'cheesecake': 1000,\n",
              " 'chole_bhature': 376,\n",
              " 'Crispy Chicken': 1500,\n",
              " 'ice_cream': 1000,\n",
              " 'Taquito': 1500,\n",
              " 'kadai_paneer': 334,\n",
              " 'idli': 302,\n",
              " 'chicken_curry': 1000,\n",
              " 'kaathi_rolls': 279,\n",
              " 'chapati': 327,\n",
              " 'dhokla': 245,\n",
              " 'apple_pie': 1000}"
            ]
          },
          "metadata": {},
          "execution_count": 20
        }
      ]
    },
    {
      "cell_type": "code",
      "execution_count": null,
      "metadata": {
        "colab": {
          "base_uri": "https://localhost:8080/"
        },
        "id": "WAKHI_RhwrGt",
        "outputId": "3c257228-7071-463c-cd22-49cc207773e6"
      },
      "outputs": [
        {
          "output_type": "stream",
          "name": "stdout",
          "text": [
            "Ancho de imagen: 1364px, Alto de imagen: 2048px\n"
          ]
        }
      ],
      "source": [
        "# Obtiene las dimensiones de una imagen de muestra\n",
        "random_class = random.choice(classes)\n",
        "random_img = random.choice(os.listdir(os.path.join(dataset_root,random_class)))\n",
        "sample_image_path = os.path.join(dataset_root, random_class, random_img)\n",
        "sample_image = Image.open(sample_image_path)\n",
        "image_width, image_height = sample_image.size\n",
        "print(f\"Ancho de imagen: {image_width}px, Alto de imagen: {image_height}px\")\n"
      ]
    },
    {
      "cell_type": "code",
      "execution_count": null,
      "metadata": {
        "id": "NGQOP4htVmVc"
      },
      "outputs": [],
      "source": [
        "# Redimensionado de las imágenes\n",
        "target_size = (224, 224)  # Tamaño deseado de las imágenes\n",
        "\n",
        "def preprocess_image(image_path):\n",
        "    image = Image.open(image_path)\n",
        "    image = image.resize(target_size, Image.LANCZOS)  # Redimensionar la imagen\n",
        "    # Realizar otras transformaciones, como normalización de píxeles, aquí si es necesario?\n",
        "    return image"
      ]
    },
    {
      "cell_type": "code",
      "execution_count": null,
      "metadata": {
        "id": "hmJW-Sn0qVRM"
      },
      "outputs": [],
      "source": [
        "# Inicializa listas para almacenar las rutas de imágenes y etiquetas\n",
        "image_paths = []\n",
        "labels = []\n",
        "\n",
        "# Itera a través de las carpetas de clases de alimentos\n",
        "for food_class in subdirectories:\n",
        "    class_dir = os.path.join(dataset_dir, food_class)\n",
        "    if os.path.isdir(class_dir):\n",
        "        # Enumera los archivos de imágenes en la carpeta de la clase\n",
        "        class_image_paths = [os.path.join(class_dir, filename) for filename in os.listdir(class_dir)]\n",
        "        # Agrega las rutas de imágenes a la lista\n",
        "        image_paths.extend(class_image_paths)\n",
        "        # Agrega las etiquetas correspondientes (nombre de la clase) a la lista\n",
        "        labels.extend([food_class] * len(class_image_paths))"
      ]
    },
    {
      "cell_type": "code",
      "execution_count": null,
      "metadata": {
        "id": "TAoGN4oTvKxS"
      },
      "outputs": [],
      "source": [
        "# %%time\n",
        "\n",
        "# # Aplicar la función par cambiar el tamaño de las imágnes\n",
        "# dic_imag_path = {im: preprocess_image(im) for im in image_paths}"
      ]
    },
    {
      "cell_type": "code",
      "execution_count": null,
      "metadata": {
        "id": "cBQ5WHfnusMw"
      },
      "outputs": [],
      "source": [
        "# # Comprobar cómo quedan las imagnes despúes de remodelarlas\n",
        "# n = random.randint(1, n_images)\n",
        "# print(f\"Label imagen: {labels[n]}\")\n",
        "# image_width, image_height = dic_imag_path[image_paths[n]].size\n",
        "# print(f\"Ancho de imagen: {image_width}px, Alto de imagen: {image_height}px\")\n",
        "# dic_imag_path[image_paths[n]]\n"
      ]
    },
    {
      "cell_type": "code",
      "execution_count": null,
      "metadata": {
        "colab": {
          "base_uri": "https://localhost:8080/",
          "height": 1000
        },
        "id": "Ro661KWRKtRH",
        "outputId": "47d53bb7-f790-4f73-904c-1960cf276d09"
      },
      "outputs": [
        {
          "output_type": "execute_result",
          "data": {
            "text/plain": [
              "                filename\n",
              "class                   \n",
              "Baked Potato        1500\n",
              "Crispy Chicken      1500\n",
              "Donut               1500\n",
              "Fries               1500\n",
              "Hot Dog             1548\n",
              "Sandwich            1500\n",
              "Taco                1500\n",
              "Taquito             1500\n",
              "apple_pie           1000\n",
              "burger               331\n",
              "butter_naan          307\n",
              "chai                 344\n",
              "chapati              327\n",
              "cheesecake          1000\n",
              "chicken_curry       1000\n",
              "chole_bhature        376\n",
              "dal_makhani          295\n",
              "dhokla               245\n",
              "fried_rice           350\n",
              "ice_cream           1000\n",
              "idli                 302\n",
              "jalebi               288\n",
              "kaathi_rolls         279\n",
              "kadai_paneer         334\n",
              "kulfi                214\n",
              "masala_dosa          273\n",
              "momos                323\n",
              "omelette            1000\n",
              "paani_puri           144\n",
              "pakode               269\n",
              "pav_bhaji            305\n",
              "pizza                275\n",
              "samosa               244\n",
              "sushi               1000"
            ],
            "text/html": [
              "\n",
              "  <div id=\"df-d43536bb-ba37-4ae1-b997-37b77b7dd869\" class=\"colab-df-container\">\n",
              "    <div>\n",
              "<style scoped>\n",
              "    .dataframe tbody tr th:only-of-type {\n",
              "        vertical-align: middle;\n",
              "    }\n",
              "\n",
              "    .dataframe tbody tr th {\n",
              "        vertical-align: top;\n",
              "    }\n",
              "\n",
              "    .dataframe thead th {\n",
              "        text-align: right;\n",
              "    }\n",
              "</style>\n",
              "<table border=\"1\" class=\"dataframe\">\n",
              "  <thead>\n",
              "    <tr style=\"text-align: right;\">\n",
              "      <th></th>\n",
              "      <th>filename</th>\n",
              "    </tr>\n",
              "    <tr>\n",
              "      <th>class</th>\n",
              "      <th></th>\n",
              "    </tr>\n",
              "  </thead>\n",
              "  <tbody>\n",
              "    <tr>\n",
              "      <th>Baked Potato</th>\n",
              "      <td>1500</td>\n",
              "    </tr>\n",
              "    <tr>\n",
              "      <th>Crispy Chicken</th>\n",
              "      <td>1500</td>\n",
              "    </tr>\n",
              "    <tr>\n",
              "      <th>Donut</th>\n",
              "      <td>1500</td>\n",
              "    </tr>\n",
              "    <tr>\n",
              "      <th>Fries</th>\n",
              "      <td>1500</td>\n",
              "    </tr>\n",
              "    <tr>\n",
              "      <th>Hot Dog</th>\n",
              "      <td>1548</td>\n",
              "    </tr>\n",
              "    <tr>\n",
              "      <th>Sandwich</th>\n",
              "      <td>1500</td>\n",
              "    </tr>\n",
              "    <tr>\n",
              "      <th>Taco</th>\n",
              "      <td>1500</td>\n",
              "    </tr>\n",
              "    <tr>\n",
              "      <th>Taquito</th>\n",
              "      <td>1500</td>\n",
              "    </tr>\n",
              "    <tr>\n",
              "      <th>apple_pie</th>\n",
              "      <td>1000</td>\n",
              "    </tr>\n",
              "    <tr>\n",
              "      <th>burger</th>\n",
              "      <td>331</td>\n",
              "    </tr>\n",
              "    <tr>\n",
              "      <th>butter_naan</th>\n",
              "      <td>307</td>\n",
              "    </tr>\n",
              "    <tr>\n",
              "      <th>chai</th>\n",
              "      <td>344</td>\n",
              "    </tr>\n",
              "    <tr>\n",
              "      <th>chapati</th>\n",
              "      <td>327</td>\n",
              "    </tr>\n",
              "    <tr>\n",
              "      <th>cheesecake</th>\n",
              "      <td>1000</td>\n",
              "    </tr>\n",
              "    <tr>\n",
              "      <th>chicken_curry</th>\n",
              "      <td>1000</td>\n",
              "    </tr>\n",
              "    <tr>\n",
              "      <th>chole_bhature</th>\n",
              "      <td>376</td>\n",
              "    </tr>\n",
              "    <tr>\n",
              "      <th>dal_makhani</th>\n",
              "      <td>295</td>\n",
              "    </tr>\n",
              "    <tr>\n",
              "      <th>dhokla</th>\n",
              "      <td>245</td>\n",
              "    </tr>\n",
              "    <tr>\n",
              "      <th>fried_rice</th>\n",
              "      <td>350</td>\n",
              "    </tr>\n",
              "    <tr>\n",
              "      <th>ice_cream</th>\n",
              "      <td>1000</td>\n",
              "    </tr>\n",
              "    <tr>\n",
              "      <th>idli</th>\n",
              "      <td>302</td>\n",
              "    </tr>\n",
              "    <tr>\n",
              "      <th>jalebi</th>\n",
              "      <td>288</td>\n",
              "    </tr>\n",
              "    <tr>\n",
              "      <th>kaathi_rolls</th>\n",
              "      <td>279</td>\n",
              "    </tr>\n",
              "    <tr>\n",
              "      <th>kadai_paneer</th>\n",
              "      <td>334</td>\n",
              "    </tr>\n",
              "    <tr>\n",
              "      <th>kulfi</th>\n",
              "      <td>214</td>\n",
              "    </tr>\n",
              "    <tr>\n",
              "      <th>masala_dosa</th>\n",
              "      <td>273</td>\n",
              "    </tr>\n",
              "    <tr>\n",
              "      <th>momos</th>\n",
              "      <td>323</td>\n",
              "    </tr>\n",
              "    <tr>\n",
              "      <th>omelette</th>\n",
              "      <td>1000</td>\n",
              "    </tr>\n",
              "    <tr>\n",
              "      <th>paani_puri</th>\n",
              "      <td>144</td>\n",
              "    </tr>\n",
              "    <tr>\n",
              "      <th>pakode</th>\n",
              "      <td>269</td>\n",
              "    </tr>\n",
              "    <tr>\n",
              "      <th>pav_bhaji</th>\n",
              "      <td>305</td>\n",
              "    </tr>\n",
              "    <tr>\n",
              "      <th>pizza</th>\n",
              "      <td>275</td>\n",
              "    </tr>\n",
              "    <tr>\n",
              "      <th>samosa</th>\n",
              "      <td>244</td>\n",
              "    </tr>\n",
              "    <tr>\n",
              "      <th>sushi</th>\n",
              "      <td>1000</td>\n",
              "    </tr>\n",
              "  </tbody>\n",
              "</table>\n",
              "</div>\n",
              "    <div class=\"colab-df-buttons\">\n",
              "\n",
              "  <div class=\"colab-df-container\">\n",
              "    <button class=\"colab-df-convert\" onclick=\"convertToInteractive('df-d43536bb-ba37-4ae1-b997-37b77b7dd869')\"\n",
              "            title=\"Convert this dataframe to an interactive table.\"\n",
              "            style=\"display:none;\">\n",
              "\n",
              "  <svg xmlns=\"http://www.w3.org/2000/svg\" height=\"24px\" viewBox=\"0 -960 960 960\">\n",
              "    <path d=\"M120-120v-720h720v720H120Zm60-500h600v-160H180v160Zm220 220h160v-160H400v160Zm0 220h160v-160H400v160ZM180-400h160v-160H180v160Zm440 0h160v-160H620v160ZM180-180h160v-160H180v160Zm440 0h160v-160H620v160Z\"/>\n",
              "  </svg>\n",
              "    </button>\n",
              "\n",
              "  <style>\n",
              "    .colab-df-container {\n",
              "      display:flex;\n",
              "      gap: 12px;\n",
              "    }\n",
              "\n",
              "    .colab-df-convert {\n",
              "      background-color: #E8F0FE;\n",
              "      border: none;\n",
              "      border-radius: 50%;\n",
              "      cursor: pointer;\n",
              "      display: none;\n",
              "      fill: #1967D2;\n",
              "      height: 32px;\n",
              "      padding: 0 0 0 0;\n",
              "      width: 32px;\n",
              "    }\n",
              "\n",
              "    .colab-df-convert:hover {\n",
              "      background-color: #E2EBFA;\n",
              "      box-shadow: 0px 1px 2px rgba(60, 64, 67, 0.3), 0px 1px 3px 1px rgba(60, 64, 67, 0.15);\n",
              "      fill: #174EA6;\n",
              "    }\n",
              "\n",
              "    .colab-df-buttons div {\n",
              "      margin-bottom: 4px;\n",
              "    }\n",
              "\n",
              "    [theme=dark] .colab-df-convert {\n",
              "      background-color: #3B4455;\n",
              "      fill: #D2E3FC;\n",
              "    }\n",
              "\n",
              "    [theme=dark] .colab-df-convert:hover {\n",
              "      background-color: #434B5C;\n",
              "      box-shadow: 0px 1px 3px 1px rgba(0, 0, 0, 0.15);\n",
              "      filter: drop-shadow(0px 1px 2px rgba(0, 0, 0, 0.3));\n",
              "      fill: #FFFFFF;\n",
              "    }\n",
              "  </style>\n",
              "\n",
              "    <script>\n",
              "      const buttonEl =\n",
              "        document.querySelector('#df-d43536bb-ba37-4ae1-b997-37b77b7dd869 button.colab-df-convert');\n",
              "      buttonEl.style.display =\n",
              "        google.colab.kernel.accessAllowed ? 'block' : 'none';\n",
              "\n",
              "      async function convertToInteractive(key) {\n",
              "        const element = document.querySelector('#df-d43536bb-ba37-4ae1-b997-37b77b7dd869');\n",
              "        const dataTable =\n",
              "          await google.colab.kernel.invokeFunction('convertToInteractive',\n",
              "                                                    [key], {});\n",
              "        if (!dataTable) return;\n",
              "\n",
              "        const docLinkHtml = 'Like what you see? Visit the ' +\n",
              "          '<a target=\"_blank\" href=https://colab.research.google.com/notebooks/data_table.ipynb>data table notebook</a>'\n",
              "          + ' to learn more about interactive tables.';\n",
              "        element.innerHTML = '';\n",
              "        dataTable['output_type'] = 'display_data';\n",
              "        await google.colab.output.renderOutput(dataTable, element);\n",
              "        const docLink = document.createElement('div');\n",
              "        docLink.innerHTML = docLinkHtml;\n",
              "        element.appendChild(docLink);\n",
              "      }\n",
              "    </script>\n",
              "  </div>\n",
              "\n",
              "\n",
              "<div id=\"df-eba1e7b5-19c4-4d4c-bd97-da092b0aa8fb\">\n",
              "  <button class=\"colab-df-quickchart\" onclick=\"quickchart('df-eba1e7b5-19c4-4d4c-bd97-da092b0aa8fb')\"\n",
              "            title=\"Suggest charts.\"\n",
              "            style=\"display:none;\">\n",
              "\n",
              "<svg xmlns=\"http://www.w3.org/2000/svg\" height=\"24px\"viewBox=\"0 0 24 24\"\n",
              "     width=\"24px\">\n",
              "    <g>\n",
              "        <path d=\"M19 3H5c-1.1 0-2 .9-2 2v14c0 1.1.9 2 2 2h14c1.1 0 2-.9 2-2V5c0-1.1-.9-2-2-2zM9 17H7v-7h2v7zm4 0h-2V7h2v10zm4 0h-2v-4h2v4z\"/>\n",
              "    </g>\n",
              "</svg>\n",
              "  </button>\n",
              "\n",
              "<style>\n",
              "  .colab-df-quickchart {\n",
              "      --bg-color: #E8F0FE;\n",
              "      --fill-color: #1967D2;\n",
              "      --hover-bg-color: #E2EBFA;\n",
              "      --hover-fill-color: #174EA6;\n",
              "      --disabled-fill-color: #AAA;\n",
              "      --disabled-bg-color: #DDD;\n",
              "  }\n",
              "\n",
              "  [theme=dark] .colab-df-quickchart {\n",
              "      --bg-color: #3B4455;\n",
              "      --fill-color: #D2E3FC;\n",
              "      --hover-bg-color: #434B5C;\n",
              "      --hover-fill-color: #FFFFFF;\n",
              "      --disabled-bg-color: #3B4455;\n",
              "      --disabled-fill-color: #666;\n",
              "  }\n",
              "\n",
              "  .colab-df-quickchart {\n",
              "    background-color: var(--bg-color);\n",
              "    border: none;\n",
              "    border-radius: 50%;\n",
              "    cursor: pointer;\n",
              "    display: none;\n",
              "    fill: var(--fill-color);\n",
              "    height: 32px;\n",
              "    padding: 0;\n",
              "    width: 32px;\n",
              "  }\n",
              "\n",
              "  .colab-df-quickchart:hover {\n",
              "    background-color: var(--hover-bg-color);\n",
              "    box-shadow: 0 1px 2px rgba(60, 64, 67, 0.3), 0 1px 3px 1px rgba(60, 64, 67, 0.15);\n",
              "    fill: var(--button-hover-fill-color);\n",
              "  }\n",
              "\n",
              "  .colab-df-quickchart-complete:disabled,\n",
              "  .colab-df-quickchart-complete:disabled:hover {\n",
              "    background-color: var(--disabled-bg-color);\n",
              "    fill: var(--disabled-fill-color);\n",
              "    box-shadow: none;\n",
              "  }\n",
              "\n",
              "  .colab-df-spinner {\n",
              "    border: 2px solid var(--fill-color);\n",
              "    border-color: transparent;\n",
              "    border-bottom-color: var(--fill-color);\n",
              "    animation:\n",
              "      spin 1s steps(1) infinite;\n",
              "  }\n",
              "\n",
              "  @keyframes spin {\n",
              "    0% {\n",
              "      border-color: transparent;\n",
              "      border-bottom-color: var(--fill-color);\n",
              "      border-left-color: var(--fill-color);\n",
              "    }\n",
              "    20% {\n",
              "      border-color: transparent;\n",
              "      border-left-color: var(--fill-color);\n",
              "      border-top-color: var(--fill-color);\n",
              "    }\n",
              "    30% {\n",
              "      border-color: transparent;\n",
              "      border-left-color: var(--fill-color);\n",
              "      border-top-color: var(--fill-color);\n",
              "      border-right-color: var(--fill-color);\n",
              "    }\n",
              "    40% {\n",
              "      border-color: transparent;\n",
              "      border-right-color: var(--fill-color);\n",
              "      border-top-color: var(--fill-color);\n",
              "    }\n",
              "    60% {\n",
              "      border-color: transparent;\n",
              "      border-right-color: var(--fill-color);\n",
              "    }\n",
              "    80% {\n",
              "      border-color: transparent;\n",
              "      border-right-color: var(--fill-color);\n",
              "      border-bottom-color: var(--fill-color);\n",
              "    }\n",
              "    90% {\n",
              "      border-color: transparent;\n",
              "      border-bottom-color: var(--fill-color);\n",
              "    }\n",
              "  }\n",
              "</style>\n",
              "\n",
              "  <script>\n",
              "    async function quickchart(key) {\n",
              "      const quickchartButtonEl =\n",
              "        document.querySelector('#' + key + ' button');\n",
              "      quickchartButtonEl.disabled = true;  // To prevent multiple clicks.\n",
              "      quickchartButtonEl.classList.add('colab-df-spinner');\n",
              "      try {\n",
              "        const charts = await google.colab.kernel.invokeFunction(\n",
              "            'suggestCharts', [key], {});\n",
              "      } catch (error) {\n",
              "        console.error('Error during call to suggestCharts:', error);\n",
              "      }\n",
              "      quickchartButtonEl.classList.remove('colab-df-spinner');\n",
              "      quickchartButtonEl.classList.add('colab-df-quickchart-complete');\n",
              "    }\n",
              "    (() => {\n",
              "      let quickchartButtonEl =\n",
              "        document.querySelector('#df-eba1e7b5-19c4-4d4c-bd97-da092b0aa8fb button');\n",
              "      quickchartButtonEl.style.display =\n",
              "        google.colab.kernel.accessAllowed ? 'block' : 'none';\n",
              "    })();\n",
              "  </script>\n",
              "</div>\n",
              "    </div>\n",
              "  </div>\n"
            ]
          },
          "metadata": {},
          "execution_count": 31
        }
      ],
      "source": [
        "# Crear un DataFrame con las rutas de las imágenes y las etiquetas\n",
        "data = {'filename': image_paths, 'class': labels}\n",
        "df = pd.DataFrame(data)\n",
        "df.groupby('class').count()"
      ]
    },
    {
      "cell_type": "code",
      "source": [
        "class_names = df['class'].unique()"
      ],
      "metadata": {
        "id": "b0lwwv_dzWJc"
      },
      "execution_count": null,
      "outputs": []
    },
    {
      "cell_type": "code",
      "execution_count": null,
      "metadata": {
        "id": "YLhgIXP8q13e"
      },
      "outputs": [],
      "source": [
        "# Dividir los datos en entrenamiento (70%) y temporales (30%)\n",
        "train_data, temp_data = train_test_split(df, test_size=0.3, random_state=42)\n",
        "\n",
        "# Dividir los datos temporales en validación (50%) y prueba (50%)\n",
        "validation_data, test_data = train_test_split(temp_data, test_size=0.5, random_state=42)"
      ]
    },
    {
      "cell_type": "code",
      "execution_count": null,
      "metadata": {
        "colab": {
          "base_uri": "https://localhost:8080/"
        },
        "id": "Lv584xqmrC-c",
        "outputId": "af0bacac-ede1-4714-d81c-8973d50727bb"
      },
      "outputs": [
        {
          "output_type": "stream",
          "name": "stdout",
          "text": [
            "Found 16711 validated image filenames belonging to 34 classes.\n",
            "Found 3581 validated image filenames belonging to 34 classes.\n",
            "Found 3581 validated image filenames belonging to 34 classes.\n",
            "Forma del lote de imágenes: (32, 224, 224, 3)\n"
          ]
        }
      ],
      "source": [
        "# Crea y define el ImageDataGenerator\n",
        "\n",
        "datagen = ImageDataGenerator(\n",
        "    rescale=1.0/255, # Normalizar los valores de píxeles al rango [0, 1]\n",
        "    # preprocessing_function=tf.image.rgb_to_grayscale\n",
        "    # rotation_range=20,      # Rango de rotación aleatoria\n",
        "    # width_shift_range=0.2,  # Desplazamiento horizontal aleatorio\n",
        "    # height_shift_range=0.2, # Desplazamiento vertical aleatorio\n",
        "    # shear_range=0.2,        # Distorsión de corte aleatoria\n",
        "    # zoom_range=0.2,         # Ampliación aleatoria\n",
        "    # horizontal_flip=True,   # Volteo horizontal aleatorio\n",
        "    # fill_mode='nearest'     # Estrategia de relleno\n",
        ")\n",
        "\n",
        "batch_size = 32\n",
        "\n",
        "# Crear generadores de datos para entrenamiento, validación y prueba\n",
        "train_generator = datagen.flow_from_dataframe(\n",
        "    dataframe = train_data,\n",
        "    target_size=(224, 224),  # Ajusta el tamaño según tu modelo\n",
        "    batch_size=batch_size,\n",
        "    class_mode='categorical',\n",
        "    shuffle=True\n",
        ")\n",
        "\n",
        "validation_generator = datagen.flow_from_dataframe(\n",
        "    dataframe = validation_data,\n",
        "    target_size=(224, 224),\n",
        "    batch_size=batch_size,\n",
        "    class_mode='categorical',\n",
        "    shuffle=False  # No es necesario mezclar los datos de validación\n",
        ")\n",
        "\n",
        "test_generator = datagen.flow_from_dataframe(\n",
        "    dataframe = test_data,\n",
        "    target_size=(224, 224),\n",
        "    batch_size=batch_size,\n",
        "    class_mode='categorical',\n",
        "    shuffle=False  # No es necesario mezclar los datos de prueba\n",
        ")\n",
        "\n",
        "images, img_labels = next(train_generator)\n",
        "print(\"Forma del lote de imágenes:\", images.shape)"
      ]
    },
    {
      "cell_type": "code",
      "source": [
        "# # Tomar un lote de imágenes del generador\n",
        "# images, img_labels = next(train_generator)\n",
        "\n",
        "# # Verificar las formas de las imágenes en el lote\n",
        "# print(\"Forma del lote de imágenes:\", images.shape)  # Debería ser (batch_size, height, width, channels)\n",
        "\n",
        "# # Seleccionar una imagen del lote (por ejemplo, la primera imagen)\n",
        "# image = images[0]  # Cambia el índice si deseas visualizar otra imagen\n",
        "\n",
        "# # Mostrar la imagen utilizando Matplotlib\n",
        "# plt.figure(figsize=(3, 3))\n",
        "# plt.imshow(image.squeeze())  # Asegúrate de usar 'gray' para imágenes en escala de grises\n",
        "# plt.axis('off')  # Deshabilita los ejes\n",
        "# plt.title(f'Clase: {img_labels[0]}')  # Muestra la etiqueta de clase (cambia si no usas one-hot encoding)\n",
        "# plt.show()\n"
      ],
      "metadata": {
        "id": "uODU_oSpx2ex"
      },
      "execution_count": null,
      "outputs": []
    },
    {
      "cell_type": "code",
      "execution_count": null,
      "metadata": {
        "id": "gho1UuMglmoW"
      },
      "outputs": [],
      "source": [
        "# # Codificaión de las etiquetas\n",
        "# label_encoder = LabelEncoder()\n",
        "# y_train_encoded = label_encoder.fit_transform(y_train)\n",
        "# y_test_encoded = label_encoder.transform(y_test)\n",
        "# # label_encoder.classes_\n",
        "\n",
        "# print(f'y_train_encoded {len(y_train_encoded)}')\n",
        "# print(f'y_test_encoded {len(y_test_encoded)}')"
      ]
    },
    {
      "cell_type": "code",
      "execution_count": null,
      "metadata": {
        "id": "x7BBVoqpMhsL"
      },
      "outputs": [],
      "source": [
        "# model = VGG19(weights='imagenet', include_top=False)\n",
        "base_model = VGG19(weights='imagenet', include_top=False, input_shape=(224, 224, 3))\n",
        "base_model.summary()"
      ]
    },
    {
      "cell_type": "code",
      "execution_count": null,
      "metadata": {
        "id": "n_sAjViYKEII"
      },
      "outputs": [],
      "source": [
        "for layer in base_model.layers:\n",
        "    layer.trainable = False\n",
        "\n",
        "# num_classes = 34  # Reemplaza con el número de clases en tu dataset\n",
        "\n",
        "# # Agrega una nueva capa de salida\n",
        "# x = model.output\n",
        "# x = GlobalAveragePooling2D()(x)\n",
        "# x = Dense(1024, activation='relu')(x)  # Capa oculta opcional\n",
        "# predictions = Dense(num_classes, activation='softmax')(x)  # Capa de salida\n",
        "\n",
        "# # Crea un nuevo modelo con la capa de salida modificada\n",
        "# new_model = Model(inputs=model.input, outputs=predictions)\n",
        "\n",
        "from keras.layers import Flatten, Dense\n",
        "\n",
        "x = base_model.output\n",
        "x = Flatten()(x)\n",
        "x = Dense(256, activation='relu')(x)\n",
        "x = Dense(128, activation='relu')(x)\n",
        "predictions = Dense(34, activation='softmax')(x)\n",
        "\n",
        "# Crea un nuevo modelo con la capa de salida modificada\n",
        "new_model = Model(inputs=base_model.input, outputs=predictions)"
      ]
    },
    {
      "cell_type": "code",
      "execution_count": null,
      "metadata": {
        "id": "EjlgacqjMaXX"
      },
      "outputs": [],
      "source": [
        "new_model.compile(loss='categorical_crossentropy', optimizer='adam', metrics=['accuracy'])"
      ]
    },
    {
      "cell_type": "code",
      "execution_count": null,
      "metadata": {
        "id": "tFEHG-jrMb0R"
      },
      "outputs": [],
      "source": [
        "# Entrenar el modelo utilizando los generadores de datos\n",
        "epochs = 10  # Número de épocas\n",
        "history = new_model.fit(\n",
        "    train_generator,\n",
        "    steps_per_epoch=train_generator.samples // batch_size,  # Número total de lotes por época\n",
        "    epochs=epochs,\n",
        "    validation_data=validation_generator,\n",
        "    validation_steps=validation_generator.samples // batch_size,  # Número total de lotes de validación por época\n",
        ")\n",
        "\n",
        "# model.fit_generator(train_generator, steps_per_epoch=train_generator.samples // batch_size,\n",
        "#                     validation_data=validation_generator, validation_steps=validation_generator.samples // batch_size,\n",
        "#                     epochs=epochs)"
      ]
    },
    {
      "cell_type": "code",
      "execution_count": null,
      "metadata": {
        "id": "qTnEXcPEVo3r"
      },
      "outputs": [],
      "source": [
        "new_model.save('second_model_version.h5')\n",
        "new_model.save('my_second_model.keras')"
      ]
    },
    {
      "cell_type": "code",
      "source": [
        "from google.colab import files\n",
        "\n",
        "files.download('second_model_version.h5')\n",
        "files.download('my_second_model.keras')"
      ],
      "metadata": {
        "id": "tv3rcxMFBNTv"
      },
      "execution_count": null,
      "outputs": []
    },
    {
      "cell_type": "code",
      "execution_count": null,
      "metadata": {
        "id": "RiLebVdgmR8S"
      },
      "outputs": [],
      "source": [
        "# Cargar el modelo\n",
        "new_model = load_model('/content/firs_model_version.h5')"
      ]
    },
    {
      "cell_type": "code",
      "execution_count": null,
      "metadata": {
        "id": "4wwDHTMkMf_-"
      },
      "outputs": [],
      "source": [
        "test_loss, test_accuracy = new_model.evaluate(validation_generator)\n",
        "print(f\"Pérdida en el conjunto de prueba: {test_loss}\")\n",
        "print(f\"Precisión en el conjunto de prueba: {test_accuracy}\")"
      ]
    },
    {
      "cell_type": "code",
      "execution_count": null,
      "metadata": {
        "id": "IFKxPE-Pm33a"
      },
      "outputs": [],
      "source": [
        "from sklearn.metrics import confusion_matrix\n",
        "\n",
        "# Predicciones del modelo en el conjunto de datos de prueba\n",
        "predictions = new_model.predict(test_generator)\n",
        "# Convierte las predicciones en etiquetas de clase (por ejemplo, utilizando np.argmax)\n",
        "predicted_classes = np.argmax(predictions, axis=1)\n",
        "\n",
        "# Calcula la matriz de confusión\n",
        "true_classes = test_generator.classes\n",
        "confusion = confusion_matrix(true_classes, predicted_classes)\n",
        "print(\"Matriz de Confusión:\")\n",
        "print(confusion)\n"
      ]
    },
    {
      "cell_type": "code",
      "execution_count": null,
      "metadata": {
        "id": "Wsb5IC6sm362"
      },
      "outputs": [],
      "source": [
        "from sklearn.metrics import classification_report\n",
        "\n",
        "# Calcula precision, recall y f1-score por clase\n",
        "report = classification_report(true_classes, predicted_classes, target_names=class_names)\n",
        "print(\"Reporte de Clasificación:\")\n",
        "print(report)\n"
      ]
    },
    {
      "cell_type": "code",
      "execution_count": null,
      "metadata": {
        "id": "J40z1CWmuf1f"
      },
      "outputs": [],
      "source": [
        "from sklearn.metrics import classification_report, confusion_matrix\n",
        "import numpy as np"
      ]
    },
    {
      "cell_type": "code",
      "execution_count": null,
      "metadata": {
        "id": "1x4QwE59EpXB"
      },
      "outputs": [],
      "source": [
        "len(validation_generator)"
      ]
    },
    {
      "cell_type": "code",
      "execution_count": null,
      "metadata": {
        "id": "ntZdFwKhuknJ"
      },
      "outputs": [],
      "source": [
        "# Obtén las predicciones del modelo en el conjunto de prueba\n",
        "y_pred = new_model.predict(validation_generator)\n",
        "print(f'y_pred {len(y_pred)}')"
      ]
    },
    {
      "cell_type": "code",
      "execution_count": null,
      "metadata": {
        "id": "4Qu8SV6dyK1f"
      },
      "outputs": [],
      "source": [
        "from keras.utils import to_categorical\n",
        "print(f'Sin convertir {validation_generator} {len(validation_generator)}')\n",
        "# Convierte las etiquetas de prueba a formato \"one-hot\"\n",
        "y_test_encoded = to_categorical(validation_generator, num_classes=num_classes)\n",
        "print(f'\\nConvertidas a  One-Hot {y_test_encoded} {len(y_test_encoded)}')"
      ]
    },
    {
      "cell_type": "code",
      "execution_count": null,
      "metadata": {
        "id": "MTeFane80kvU"
      },
      "outputs": [],
      "source": [
        "# from keras.utils import to_categorical\n",
        "# print(f'Sin convertir {y_test_encoded} {len(y_test_encoded)}')\n",
        "# # Convierte las etiquetas de prueba a formato \"one-hot\"\n",
        "# y_test_encoded = to_categorical(y_test_encoded, num_classes=num_classes)\n",
        "# print(f'\\nConvertidas a  One-Hot {y_test_encoded} {len(y_test_encoded)}')"
      ]
    },
    {
      "cell_type": "code",
      "execution_count": null,
      "metadata": {
        "id": "XH5XkmN9xfIg"
      },
      "outputs": [],
      "source": [
        "# Decodifica las etiquetas predichas y verdaderas\n",
        "print(f'y_pred {len(y_pred)}')\n",
        "y_pred_decoded = np.argmax(y_pred, axis=1)  # Predicciones\n",
        "print(f'y_pred_decoded {len(y_pred_decoded)}')\n",
        "y_true_decoded = np.argmax(y_test_encoded, axis=1)  # Etiquetas verdaderas\n",
        "print(f'y_true_decoded {len(y_true_decoded)}')\n"
      ]
    },
    {
      "cell_type": "code",
      "execution_count": null,
      "metadata": {
        "id": "I6jhCGV854Tc"
      },
      "outputs": [],
      "source": [
        "# y_true_decoded = y_true_decoded[:len(y_pred_decoded)]"
      ]
    },
    {
      "cell_type": "code",
      "execution_count": null,
      "metadata": {
        "id": "gESQdjOCyF3L"
      },
      "outputs": [],
      "source": [
        "# Calcula la matriz de confusión\n",
        "confusion = confusion_matrix(y_true_decoded, y_pred_decoded)\n",
        "print(\"Matriz de Confusión:\")\n",
        "print(confusion)"
      ]
    },
    {
      "cell_type": "code",
      "execution_count": null,
      "metadata": {
        "id": "vHRLZC1xyU8u"
      },
      "outputs": [],
      "source": [
        "# Genera el informe de clasificación\n",
        "classification_rep = classification_report(y_true_decoded, y_pred_decoded)\n",
        "print(\"Informe de Clasificación:\")\n",
        "print(classification_rep)\n"
      ]
    }
  ],
  "metadata": {
    "accelerator": "GPU",
    "colab": {
      "provenance": [],
      "gpuType": "T4"
    },
    "kernelspec": {
      "display_name": "Python 3",
      "name": "python3"
    },
    "language_info": {
      "name": "python"
    }
  },
  "nbformat": 4,
  "nbformat_minor": 0
}