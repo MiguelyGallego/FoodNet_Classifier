{
  "nbformat": 4,
  "nbformat_minor": 0,
  "metadata": {
    "colab": {
      "provenance": [],
      "gpuType": "T4"
    },
    "kernelspec": {
      "name": "python3",
      "display_name": "Python 3"
    },
    "language_info": {
      "name": "python"
    },
    "accelerator": "GPU"
  },
  "cells": [
    {
      "cell_type": "code",
      "source": [
        "!pip install opendatasets"
      ],
      "metadata": {
        "colab": {
          "base_uri": "https://localhost:8080/"
        },
        "id": "mymci0tVFDzT",
        "outputId": "3a9af708-0e23-4e2c-f005-aa5935f7e1d7"
      },
      "execution_count": 1,
      "outputs": [
        {
          "output_type": "stream",
          "name": "stdout",
          "text": [
            "Collecting opendatasets\n",
            "  Downloading opendatasets-0.1.22-py3-none-any.whl (15 kB)\n",
            "Requirement already satisfied: tqdm in /usr/local/lib/python3.10/dist-packages (from opendatasets) (4.66.1)\n",
            "Requirement already satisfied: kaggle in /usr/local/lib/python3.10/dist-packages (from opendatasets) (1.5.16)\n",
            "Requirement already satisfied: click in /usr/local/lib/python3.10/dist-packages (from opendatasets) (8.1.7)\n",
            "Requirement already satisfied: six>=1.10 in /usr/local/lib/python3.10/dist-packages (from kaggle->opendatasets) (1.16.0)\n",
            "Requirement already satisfied: certifi in /usr/local/lib/python3.10/dist-packages (from kaggle->opendatasets) (2023.7.22)\n",
            "Requirement already satisfied: python-dateutil in /usr/local/lib/python3.10/dist-packages (from kaggle->opendatasets) (2.8.2)\n",
            "Requirement already satisfied: requests in /usr/local/lib/python3.10/dist-packages (from kaggle->opendatasets) (2.31.0)\n",
            "Requirement already satisfied: python-slugify in /usr/local/lib/python3.10/dist-packages (from kaggle->opendatasets) (8.0.1)\n",
            "Requirement already satisfied: urllib3 in /usr/local/lib/python3.10/dist-packages (from kaggle->opendatasets) (2.0.4)\n",
            "Requirement already satisfied: bleach in /usr/local/lib/python3.10/dist-packages (from kaggle->opendatasets) (6.0.0)\n",
            "Requirement already satisfied: webencodings in /usr/local/lib/python3.10/dist-packages (from bleach->kaggle->opendatasets) (0.5.1)\n",
            "Requirement already satisfied: text-unidecode>=1.3 in /usr/local/lib/python3.10/dist-packages (from python-slugify->kaggle->opendatasets) (1.3)\n",
            "Requirement already satisfied: charset-normalizer<4,>=2 in /usr/local/lib/python3.10/dist-packages (from requests->kaggle->opendatasets) (3.2.0)\n",
            "Requirement already satisfied: idna<4,>=2.5 in /usr/local/lib/python3.10/dist-packages (from requests->kaggle->opendatasets) (3.4)\n",
            "Installing collected packages: opendatasets\n",
            "Successfully installed opendatasets-0.1.22\n"
          ]
        }
      ]
    },
    {
      "cell_type": "code",
      "source": [
        "import opendatasets as od\n",
        "import os\n",
        "\n",
        "import matplotlib.pyplot as plt\n",
        "import random\n",
        "from PIL import Image\n",
        "\n",
        "from tensorflow.keras.preprocessing.image import ImageDataGenerator\n",
        "\n",
        "from sklearn.preprocessing import LabelEncoder\n",
        "\n",
        "from sklearn.model_selection import train_test_split\n",
        "\n",
        "import tensorflow as tf\n",
        "from tensorflow.keras.applications import VGG19\n",
        "\n",
        "from tensorflow.keras.models import Model\n",
        "from tensorflow.keras.layers import Dense, GlobalAveragePooling2D"
      ],
      "metadata": {
        "id": "DeIXLUYlFP28"
      },
      "execution_count": 2,
      "outputs": []
    },
    {
      "cell_type": "code",
      "source": [
        "# {\"username\":\"miguelgallego\",\"key\":\"6a7a2546d0b0a5683db1abd67fc0380c\"}\n",
        "dataset_link = \"https://www.kaggle.com/datasets/harishkumardatalab/food-image-classification-dataset\"\n",
        "od.download(dataset_link)"
      ],
      "metadata": {
        "colab": {
          "base_uri": "https://localhost:8080/"
        },
        "id": "pt4hgr_NFTal",
        "outputId": "98f4e118-e5ad-44d6-bc40-f86426de625f"
      },
      "execution_count": 3,
      "outputs": [
        {
          "output_type": "stream",
          "name": "stdout",
          "text": [
            "Please provide your Kaggle credentials to download this dataset. Learn more: http://bit.ly/kaggle-creds\n",
            "Your Kaggle username: miguelgallego\n",
            "Your Kaggle Key: ··········\n",
            "Downloading food-image-classification-dataset.zip to ./food-image-classification-dataset\n"
          ]
        },
        {
          "output_type": "stream",
          "name": "stderr",
          "text": [
            "100%|██████████| 1.68G/1.68G [01:04<00:00, 28.1MB/s]\n"
          ]
        },
        {
          "output_type": "stream",
          "name": "stdout",
          "text": [
            "\n"
          ]
        }
      ]
    },
    {
      "cell_type": "code",
      "source": [
        "# Ruta de la carpeta principal del conjunto de datos\n",
        "dataset_dir = \"/content/food-image-classification-dataset/Food Classification dataset\"\n",
        "\n",
        "# Lista de carpetas dentro de la carpeta principal\n",
        "subdirectories = os.listdir(dataset_dir)\n",
        "print(\"Contenido de la carpeta principal:\")\n",
        "print(subdirectories)"
      ],
      "metadata": {
        "colab": {
          "base_uri": "https://localhost:8080/"
        },
        "id": "DfIWUYbtGNUO",
        "outputId": "0f3d25f5-ede8-432d-cf53-4ff66196b12c"
      },
      "execution_count": 4,
      "outputs": [
        {
          "output_type": "stream",
          "name": "stdout",
          "text": [
            "Contenido de la carpeta principal:\n",
            "['Baked Potato', 'Fries', 'Donut', 'dhokla', 'chai', 'kaathi_rolls', 'apple_pie', 'jalebi', 'pakode', 'sushi', 'Taco', 'fried_rice', 'chapati', 'samosa', 'paani_puri', 'burger', 'momos', 'chicken_curry', 'Sandwich', 'idli', 'chole_bhature', 'Hot Dog', 'pizza', 'kulfi', 'ice_cream', 'dal_makhani', 'pav_bhaji', 'butter_naan', 'Taquito', 'masala_dosa', 'kadai_paneer', 'cheesecake', 'omelette', 'Crispy Chicken']\n"
          ]
        }
      ]
    },
    {
      "cell_type": "code",
      "source": [
        "# Lista de clases de alimentos\n",
        "classes = subdirectories\n",
        "classes[:3]"
      ],
      "metadata": {
        "colab": {
          "base_uri": "https://localhost:8080/"
        },
        "id": "dAnV3FOLu1zk",
        "outputId": "c017174f-3729-47df-f75a-2b397a245c14"
      },
      "execution_count": 5,
      "outputs": [
        {
          "output_type": "execute_result",
          "data": {
            "text/plain": [
              "['Baked Potato', 'Fries', 'Donut']"
            ]
          },
          "metadata": {},
          "execution_count": 5
        }
      ]
    },
    {
      "cell_type": "code",
      "source": [
        "# Directorio raíz del conjunto de datos\n",
        "dataset_root = \"/content/food-image-classification-dataset/Food Classification dataset\"\n",
        "\n",
        "# # Muestra ejemplos de imágenes de cada clase\n",
        "# num_examples_per_class = 3\n",
        "# for food_class in classes:\n",
        "#     class_dir = os.path.join(dataset_root, food_class)\n",
        "#     image_files = os.listdir(class_dir)\n",
        "#     random.shuffle(image_files)  # Baraja las imágenes para mostrar ejemplos aleatorios\n",
        "#     plt.figure(figsize=(12, 4))\n",
        "#     for i in range(num_examples_per_class):\n",
        "#         img_path = os.path.join(class_dir, image_files[i])\n",
        "#         img = Image.open(img_path)\n",
        "#         plt.subplot(1, num_examples_per_class, i + 1)\n",
        "#         plt.imshow(img)\n",
        "#         plt.title(food_class)\n",
        "#     plt.show()\n"
      ],
      "metadata": {
        "id": "C3W-7k0Xu2ll"
      },
      "execution_count": 6,
      "outputs": []
    },
    {
      "cell_type": "code",
      "source": [
        "# Calcula el número de imágenes por clase\n",
        "num_images_per_class = {food_class: len(os.listdir(os.path.join(dataset_root, food_class))) for food_class in classes}\n",
        "# print(len(os.listdir(os.path.join(dataset_root, food_class)))for food_class in classes)\n",
        "\n",
        "# Muestra la distribución de clases\n",
        "plt.figure(figsize=(10, 6))\n",
        "plt.bar(num_images_per_class.keys(), num_images_per_class.values())\n",
        "plt.xlabel('Clase de Alimento')\n",
        "plt.ylabel('Número de Imágenes')\n",
        "plt.title('Distribución de Clases de Alimentos')\n",
        "plt.xticks(rotation=90)\n",
        "plt.show()\n",
        "\n",
        "n_images = sum(num_images_per_class.values())\n",
        "print(f\"\\nNúmero total de imágen: {n_images}\")"
      ],
      "metadata": {
        "colab": {
          "base_uri": "https://localhost:8080/",
          "height": 689
        },
        "id": "2NWlD7vEvwdp",
        "outputId": "c558214b-d50b-4e51-e350-f2e42e3fc66d"
      },
      "execution_count": 7,
      "outputs": [
        {
          "output_type": "display_data",
          "data": {
            "text/plain": [
              "<Figure size 1000x600 with 1 Axes>"
            ],
            "image/png": "[encoded data removed]"
          },
          "metadata": {}
        },
        {
          "output_type": "stream",
          "name": "stdout",
          "text": [
            "\n",
            "Número total de imágen: 23873\n"
          ]
        }
      ]
    },
    {
      "cell_type": "code",
      "source": [
        "# Obtiene las dimensiones de una imagen de muestra\n",
        "random_class = random.choice(classes)\n",
        "random_img = random.choice(os.listdir(os.path.join(dataset_root,random_class)))\n",
        "sample_image_path = os.path.join(dataset_root, random_class, random_img)\n",
        "sample_image = Image.open(sample_image_path)\n",
        "image_width, image_height = sample_image.size\n",
        "print(f\"Ancho de imagen: {image_width}px, Alto de imagen: {image_height}px\")\n"
      ],
      "metadata": {
        "colab": {
          "base_uri": "https://localhost:8080/"
        },
        "id": "WAKHI_RhwrGt",
        "outputId": "924d29cf-29cc-4352-f860-a67ce8eafc74"
      },
      "execution_count": 8,
      "outputs": [
        {
          "output_type": "stream",
          "name": "stdout",
          "text": [
            "Ancho de imagen: 512px, Alto de imagen: 512px\n"
          ]
        }
      ]
    },
    {
      "cell_type": "code",
      "source": [
        "# Redimensionado de las imágenes\n",
        "\n",
        "target_size = (224, 224)  # Tamaño deseado de las imágenes\n",
        "\n",
        "def preprocess_image(image_path):\n",
        "    image = Image.open(image_path)\n",
        "    image = image.resize(target_size, Image.LANCZOS)  # Redimensionar la imagen\n",
        "    # Realizar otras transformaciones, como normalización de píxeles, aquí si es necesario\n",
        "    return image\n",
        "\n"
      ],
      "metadata": {
        "id": "NGQOP4htVmVc"
      },
      "execution_count": 9,
      "outputs": []
    },
    {
      "cell_type": "code",
      "source": [
        "# from tensorflow.keras.preprocessing.image import ImageDataGenerator\n",
        "\n",
        "# datagen = ImageDataGenerator(\n",
        "#     rescale=1.0/255,        # Normalizar los valores de píxeles al rango [0, 1]\n",
        "#     rotation_range=20,      # Rango de rotación aleatoria\n",
        "#     width_shift_range=0.2,  # Desplazamiento horizontal aleatorio\n",
        "#     height_shift_range=0.2, # Desplazamiento vertical aleatorio\n",
        "#     shear_range=0.2,        # Distorsión de corte aleatoria\n",
        "#     zoom_range=0.2,         # Ampliación aleatoria\n",
        "#     horizontal_flip=True,   # Volteo horizontal aleatorio\n",
        "#     fill_mode='nearest'     # Estrategia de relleno\n",
        "# )\n",
        "\n",
        "# batch_size = 32  # Tamaño del lote (batch size)"
      ],
      "metadata": {
        "id": "jKrQ2D6GjfY1"
      },
      "execution_count": 10,
      "outputs": []
    },
    {
      "cell_type": "code",
      "source": [
        "# Inicializa listas para almacenar las rutas de imágenes y etiquetas\n",
        "image_paths = []\n",
        "labels = []\n",
        "\n",
        "# Itera a través de las carpetas de clases de alimentos\n",
        "for food_class in subdirectories:\n",
        "    class_dir = os.path.join(dataset_dir, food_class)\n",
        "    if os.path.isdir(class_dir):\n",
        "        # Enumera los archivos de imágenes en la carpeta de la clase\n",
        "        class_image_paths = [os.path.join(class_dir, filename) for filename in os.listdir(class_dir)]\n",
        "        # Agrega las rutas de imágenes a la lista\n",
        "        image_paths.extend(class_image_paths)\n",
        "        # Agrega las etiquetas correspondientes (nombre de la clase) a la lista\n",
        "        labels.extend([food_class] * len(class_image_paths))"
      ],
      "metadata": {
        "id": "hmJW-Sn0qVRM"
      },
      "execution_count": 11,
      "outputs": []
    },
    {
      "cell_type": "code",
      "source": [
        "# %%time\n",
        "\n",
        "# # Aplicar la función par cambiar el tamaño de las imágnes\n",
        "# dic_imag_path = {im: preprocess_image(im) for im in image_paths}\n"
      ],
      "metadata": {
        "id": "TAoGN4oTvKxS"
      },
      "execution_count": 12,
      "outputs": []
    },
    {
      "cell_type": "code",
      "source": [
        "# # Comprobar cómo quedan las imagnes despúes de remodelarlas\n",
        "# n = random.randint(1, n_images)\n",
        "# print(f\"Label imagen: {labels[n]}\")\n",
        "# image_width, image_height = dic_imag_path[image_paths[n]].size\n",
        "# print(f\"Ancho de imagen: {image_width}px, Alto de imagen: {image_height}px\")\n",
        "# dic_imag_path[image_paths[n]]\n"
      ],
      "metadata": {
        "id": "cBQ5WHfnusMw"
      },
      "execution_count": 13,
      "outputs": []
    },
    {
      "cell_type": "code",
      "source": [
        "# Dividir los datos en conjuntos de entrenamiento y prueba\n",
        "X_train, X_test, y_train, y_test = train_test_split(image_paths, labels, test_size=0.2, random_state=42)\n",
        "\n",
        "# # Crear generadores de datos para los conjuntos de entrenamiento y prueba\n",
        "# train_generator = datagen.flow_from_directory(\n",
        "#     directory=dataset_dir,\n",
        "#     target_size=target_size,\n",
        "#     batch_size=batch_size,\n",
        "#     class_mode='categorical',\n",
        "#     subset='training'\n",
        "# )\n",
        "\n",
        "# test_generator = datagen.flow_from_directory(\n",
        "#     directory=dataset_dir,\n",
        "#     target_size=target_size,\n",
        "#     batch_size=batch_size,\n",
        "#     class_mode='categorical',\n",
        "#     subset='validation'\n",
        "# )\n"
      ],
      "metadata": {
        "id": "W9xBAPoRjyl9"
      },
      "execution_count": 14,
      "outputs": []
    },
    {
      "cell_type": "code",
      "source": [
        "#!apt-get install tree\n",
        "# !tree -d"
      ],
      "metadata": {
        "id": "mL1vezhCWTtc"
      },
      "execution_count": 15,
      "outputs": []
    },
    {
      "cell_type": "code",
      "source": [
        "# Codificaión de las etiquetas\n",
        "label_encoder = LabelEncoder()\n",
        "y_train_encoded = label_encoder.fit_transform(y_train)\n",
        "y_test_encoded = label_encoder.transform(y_test)"
      ],
      "metadata": {
        "id": "gho1UuMglmoW"
      },
      "execution_count": 16,
      "outputs": []
    },
    {
      "cell_type": "code",
      "source": [
        "label_encoder.classes_"
      ],
      "metadata": {
        "colab": {
          "base_uri": "https://localhost:8080/"
        },
        "id": "GxkkZs5pFVVK",
        "outputId": "74b839d1-3875-4621-d66e-0162904f29d8"
      },
      "execution_count": 17,
      "outputs": [
        {
          "output_type": "execute_result",
          "data": {
            "text/plain": [
              "array(['Baked Potato', 'Crispy Chicken', 'Donut', 'Fries', 'Hot Dog',\n",
              "       'Sandwich', 'Taco', 'Taquito', 'apple_pie', 'burger',\n",
              "       'butter_naan', 'chai', 'chapati', 'cheesecake', 'chicken_curry',\n",
              "       'chole_bhature', 'dal_makhani', 'dhokla', 'fried_rice',\n",
              "       'ice_cream', 'idli', 'jalebi', 'kaathi_rolls', 'kadai_paneer',\n",
              "       'kulfi', 'masala_dosa', 'momos', 'omelette', 'paani_puri',\n",
              "       'pakode', 'pav_bhaji', 'pizza', 'samosa', 'sushi'], dtype='<U14')"
            ]
          },
          "metadata": {},
          "execution_count": 17
        }
      ]
    },
    {
      "cell_type": "code",
      "source": [
        "model = VGG19(weights='imagenet', include_top=False)\n",
        "model.summary()"
      ],
      "metadata": {
        "colab": {
          "base_uri": "https://localhost:8080/"
        },
        "id": "x7BBVoqpMhsL",
        "outputId": "f4e4fa02-4298-4081-c8af-42b2b2f9393d"
      },
      "execution_count": 18,
      "outputs": [
        {
          "output_type": "stream",
          "name": "stdout",
          "text": [
            "Downloading data from https://storage.googleapis.com/tensorflow/keras-applications/vgg19/vgg19_weights_tf_dim_ordering_tf_kernels_notop.h5\n",
            "80134624/80134624 [==============================] - 3s 0us/step\n",
            "Model: \"vgg19\"\n",
            "_________________________________________________________________\n",
            " Layer (type)                Output Shape              Param #   \n",
            "=================================================================\n",
            " input_1 (InputLayer)        [(None, None, None, 3)]   0         \n",
            "                                                                 \n",
            " block1_conv1 (Conv2D)       (None, None, None, 64)    1792      \n",
            "                                                                 \n",
            " block1_conv2 (Conv2D)       (None, None, None, 64)    36928     \n",
            "                                                                 \n",
            " block1_pool (MaxPooling2D)  (None, None, None, 64)    0         \n",
            "                                                                 \n",
            " block2_conv1 (Conv2D)       (None, None, None, 128)   73856     \n",
            "                                                                 \n",
            " block2_conv2 (Conv2D)       (None, None, None, 128)   147584    \n",
            "                                                                 \n",
            " block2_pool (MaxPooling2D)  (None, None, None, 128)   0         \n",
            "                                                                 \n",
            " block3_conv1 (Conv2D)       (None, None, None, 256)   295168    \n",
            "                                                                 \n",
            " block3_conv2 (Conv2D)       (None, None, None, 256)   590080    \n",
            "                                                                 \n",
            " block3_conv3 (Conv2D)       (None, None, None, 256)   590080    \n",
            "                                                                 \n",
            " block3_conv4 (Conv2D)       (None, None, None, 256)   590080    \n",
            "                                                                 \n",
            " block3_pool (MaxPooling2D)  (None, None, None, 256)   0         \n",
            "                                                                 \n",
            " block4_conv1 (Conv2D)       (None, None, None, 512)   1180160   \n",
            "                                                                 \n",
            " block4_conv2 (Conv2D)       (None, None, None, 512)   2359808   \n",
            "                                                                 \n",
            " block4_conv3 (Conv2D)       (None, None, None, 512)   2359808   \n",
            "                                                                 \n",
            " block4_conv4 (Conv2D)       (None, None, None, 512)   2359808   \n",
            "                                                                 \n",
            " block4_pool (MaxPooling2D)  (None, None, None, 512)   0         \n",
            "                                                                 \n",
            " block5_conv1 (Conv2D)       (None, None, None, 512)   2359808   \n",
            "                                                                 \n",
            " block5_conv2 (Conv2D)       (None, None, None, 512)   2359808   \n",
            "                                                                 \n",
            " block5_conv3 (Conv2D)       (None, None, None, 512)   2359808   \n",
            "                                                                 \n",
            " block5_conv4 (Conv2D)       (None, None, None, 512)   2359808   \n",
            "                                                                 \n",
            " block5_pool (MaxPooling2D)  (None, None, None, 512)   0         \n",
            "                                                                 \n",
            "=================================================================\n",
            "Total params: 20024384 (76.39 MB)\n",
            "Trainable params: 20024384 (76.39 MB)\n",
            "Non-trainable params: 0 (0.00 Byte)\n",
            "_________________________________________________________________\n"
          ]
        }
      ]
    },
    {
      "cell_type": "code",
      "source": [
        "for layer in model.layers:\n",
        "    layer.trainable = False"
      ],
      "metadata": {
        "id": "LxPTLZQYKUjV"
      },
      "execution_count": 19,
      "outputs": []
    },
    {
      "cell_type": "code",
      "source": [
        "num_classes = 34  # Reemplaza con el número de clases en tu dataset\n",
        "\n",
        "# Agrega una nueva capa de salida\n",
        "x = model.output\n",
        "x = GlobalAveragePooling2D()(x)\n",
        "x = Dense(1024, activation='relu')(x)  # Capa oculta opcional\n",
        "predictions = Dense(num_classes, activation='softmax')(x)  # Capa de salida\n",
        "\n",
        "# Crea un nuevo modelo con la capa de salida modificada\n",
        "new_model = Model(inputs=model.input, outputs=predictions)"
      ],
      "metadata": {
        "id": "n_sAjViYKEII"
      },
      "execution_count": 20,
      "outputs": []
    },
    {
      "cell_type": "code",
      "source": [
        "new_model.compile(loss='categorical_crossentropy', optimizer='adam', metrics=['accuracy'])"
      ],
      "metadata": {
        "id": "EjlgacqjMaXX"
      },
      "execution_count": 21,
      "outputs": []
    },
    {
      "cell_type": "code",
      "source": [
        "# Crear generadores de datos para entrenamiento y validación\n",
        "batch_size = 32  # Tamaño del lote (batch size)\n",
        "\n",
        "train_datagen = ImageDataGenerator(\n",
        "    #preprocessing_function=preprocess_image,  # La función preprocess_image que definiste antes\n",
        "    validation_split=0.2  # Porcentaje de datos para validación\n",
        ")\n",
        "\n",
        "train_generator = train_datagen.flow_from_directory(\n",
        "    directory=dataset_dir,\n",
        "    target_size=target_size,\n",
        "    batch_size=batch_size,\n",
        "    class_mode='categorical',\n",
        "    subset='training'\n",
        ")\n",
        "\n",
        "validation_generator = train_datagen.flow_from_directory(\n",
        "    directory=dataset_dir,\n",
        "    target_size=target_size,\n",
        "    batch_size=batch_size,\n",
        "    class_mode='categorical',\n",
        "    subset='validation'\n",
        ")"
      ],
      "metadata": {
        "colab": {
          "base_uri": "https://localhost:8080/"
        },
        "id": "caSLBpkyRyaO",
        "outputId": "1e36c80b-3b6f-4269-a510-f3836f9bd350"
      },
      "execution_count": 22,
      "outputs": [
        {
          "output_type": "stream",
          "name": "stdout",
          "text": [
            "Found 19108 images belonging to 34 classes.\n",
            "Found 4765 images belonging to 34 classes.\n"
          ]
        }
      ]
    },
    {
      "cell_type": "code",
      "source": [
        "# Entrenar el modelo utilizando los generadores de datos\n",
        "epochs = 10  # Número de épocas\n",
        "history = new_model.fit(\n",
        "    train_generator,\n",
        "    steps_per_epoch=len(train_generator),  # Número total de lotes por época\n",
        "    epochs=epochs,\n",
        "    validation_data=validation_generator,\n",
        "    validation_steps=len(validation_generator)  # Número total de lotes de validación por época\n",
        ")\n"
      ],
      "metadata": {
        "colab": {
          "base_uri": "https://localhost:8080/"
        },
        "id": "tFEHG-jrMb0R",
        "outputId": "029f8774-6a53-49b7-b1a9-4f7bb245a143"
      },
      "execution_count": 24,
      "outputs": [
        {
          "output_type": "stream",
          "name": "stdout",
          "text": [
            "Epoch 1/10\n",
            " 24/598 [>.............................] - ETA: 1:47 - loss: 6.4118 - accuracy: 0.1706"
          ]
        },
        {
          "output_type": "stream",
          "name": "stderr",
          "text": [
            "/usr/local/lib/python3.10/dist-packages/PIL/Image.py:996: UserWarning: Palette images with Transparency expressed in bytes should be converted to RGBA images\n",
            "  warnings.warn(\n"
          ]
        },
        {
          "output_type": "stream",
          "name": "stdout",
          "text": [
            "598/598 [==============================] - 170s 258ms/step - loss: 1.8412 - accuracy: 0.5364 - val_loss: 1.2156 - val_accuracy: 0.6424\n",
            "Epoch 2/10\n",
            "598/598 [==============================] - 168s 281ms/step - loss: 1.0273 - accuracy: 0.6982 - val_loss: 1.2017 - val_accuracy: 0.6472\n",
            "Epoch 3/10\n",
            "598/598 [==============================] - 158s 264ms/step - loss: 0.8007 - accuracy: 0.7551 - val_loss: 1.1876 - val_accuracy: 0.6678\n",
            "Epoch 4/10\n",
            "598/598 [==============================] - 153s 256ms/step - loss: 0.6407 - accuracy: 0.7979 - val_loss: 1.3194 - val_accuracy: 0.6558\n",
            "Epoch 5/10\n",
            "598/598 [==============================] - 152s 255ms/step - loss: 0.5260 - accuracy: 0.8309 - val_loss: 1.3404 - val_accuracy: 0.6711\n",
            "Epoch 6/10\n",
            "598/598 [==============================] - 150s 251ms/step - loss: 0.4259 - accuracy: 0.8612 - val_loss: 1.3467 - val_accuracy: 0.6703\n",
            "Epoch 7/10\n",
            "598/598 [==============================] - 151s 252ms/step - loss: 0.3526 - accuracy: 0.8831 - val_loss: 1.4915 - val_accuracy: 0.6672\n",
            "Epoch 8/10\n",
            "598/598 [==============================] - 151s 252ms/step - loss: 0.3015 - accuracy: 0.9015 - val_loss: 1.6163 - val_accuracy: 0.6665\n",
            "Epoch 9/10\n",
            "598/598 [==============================] - 152s 253ms/step - loss: 0.2628 - accuracy: 0.9132 - val_loss: 1.6376 - val_accuracy: 0.6791\n",
            "Epoch 10/10\n",
            "598/598 [==============================] - 155s 259ms/step - loss: 0.2369 - accuracy: 0.9224 - val_loss: 1.8440 - val_accuracy: 0.6718\n"
          ]
        }
      ]
    },
    {
      "cell_type": "code",
      "source": [
        "new_model.save('firs_model_version.h5')"
      ],
      "metadata": {
        "colab": {
          "base_uri": "https://localhost:8080/"
        },
        "id": "qTnEXcPEVo3r",
        "outputId": "bcc06ed5-779a-40ec-ca23-1f3429f6baaf"
      },
      "execution_count": 34,
      "outputs": [
        {
          "output_type": "stream",
          "name": "stderr",
          "text": [
            "/usr/local/lib/python3.10/dist-packages/keras/src/engine/training.py:3000: UserWarning: You are saving your model as an HDF5 file via `model.save()`. This file format is considered legacy. We recommend using instead the native Keras format, e.g. `model.save('my_model.keras')`.\n",
            "  saving_api.save_model(\n"
          ]
        }
      ]
    },
    {
      "cell_type": "code",
      "source": [
        "new_model.save('my_model.keras')"
      ],
      "metadata": {
        "id": "z6gvl7gHYq2f"
      },
      "execution_count": 33,
      "outputs": []
    },
    {
      "cell_type": "code",
      "source": [
        "test_loss, test_accuracy = new_model.evaluate(validation_generator)\n",
        "print(f\"Pérdida en el conjunto de prueba: {test_loss}\")\n",
        "print(f\"Precisión en el conjunto de prueba: {test_accuracy}\")\n"
      ],
      "metadata": {
        "colab": {
          "base_uri": "https://localhost:8080/"
        },
        "id": "4wwDHTMkMf_-",
        "outputId": "ab362dfe-c637-46f1-9e5c-96118a2df630"
      },
      "execution_count": 26,
      "outputs": [
        {
          "output_type": "stream",
          "name": "stdout",
          "text": [
            "149/149 [==============================] - 36s 240ms/step - loss: 1.8440 - accuracy: 0.6718\n",
            "Pérdida en el conjunto de prueba: 1.8439831733703613\n",
            "Precisión en el conjunto de prueba: 0.671773374080658\n"
          ]
        }
      ]
    }
  ]
}