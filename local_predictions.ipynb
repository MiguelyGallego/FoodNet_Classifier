{
 "cells": [
  {
   "cell_type": "code",
   "execution_count": 2,
   "metadata": {},
   "outputs": [
    {
     "name": "stdout",
     "output_type": "stream",
     "text": [
      "2.14.0\n",
      "Python 3.10.11\n"
     ]
    }
   ],
   "source": [
    "import numpy as np\n",
    "import tensorflow as tf\n",
    "\n",
    "print(tf.__version__)\n",
    "! python --version"
   ]
  },
  {
   "cell_type": "code",
   "execution_count": 3,
   "metadata": {},
   "outputs": [],
   "source": [
    "# Ruta al directorio del modelo SavedModel\n",
    "model_dir = \"C:/Users/34697/OneDrive/Documentos/Clase/BigData/ProyectoFinal/200_model_tf\"\n",
    "\n",
    "# Carga el modelo\n",
    "loaded_model = tf.saved_model.load(model_dir)\n",
    "\n",
    "# Obtiene la función de inferencia (puede variar según tu modelo)\n",
    "inference_func = loaded_model.signatures[\"serving_default\"]"
   ]
  },
  {
   "cell_type": "code",
   "execution_count": 13,
   "metadata": {},
   "outputs": [],
   "source": [
    "# Cargar una imagen\n",
    "image = tf.io.read_file(\"C:/Users/34697/OneDrive/Escritorio/sample_images/fries.jpg\")\n",
    "image = tf.image.decode_image(image, channels=3)\n",
    "image = tf.image.resize(image, (200, 200))  \n",
    "image = image[..., ::-1]\n",
    "image = tf.expand_dims(image, axis=0)\n"
   ]
  },
  {
   "cell_type": "code",
   "execution_count": 15,
   "metadata": {},
   "outputs": [],
   "source": [
    "# Realizar una predicción\n",
    "predictions = inference_func(image)\n",
    "\n",
    "# El tensor de salida\n",
    "output_tensor = predictions['dense_7']"
   ]
  },
  {
   "cell_type": "code",
   "execution_count": 16,
   "metadata": {},
   "outputs": [],
   "source": [
    "class_name = {'Baked Potato': 0,\n",
    " 'Crispy Chicken': 1,\n",
    " 'Donut': 2,\n",
    " 'Fries': 3,\n",
    " 'Hot Dog': 4,\n",
    " 'Sandwich': 5,\n",
    " 'Taco': 6,\n",
    " 'Taquito': 7,\n",
    " 'apple_pie': 8,\n",
    " 'burger': 9,\n",
    " 'butter_naan': 10,\n",
    " 'chai': 11,\n",
    " 'chapati': 12,\n",
    " 'cheesecake': 13,\n",
    " 'chicken_curry': 14,\n",
    " 'chole_bhature': 15,\n",
    " 'dal_makhani': 16,\n",
    " 'fried_rice': 17,\n",
    " 'ice_cream': 18,\n",
    " 'idli': 19,\n",
    " 'jalebi': 20,\n",
    " 'kaathi_rolls': 21,\n",
    " 'kadai_paneer': 22,\n",
    " 'masala_dosa': 23,\n",
    " 'momos': 24,\n",
    " 'omelette': 25,\n",
    " 'pakode': 26,\n",
    " 'pav_bhaji': 27,\n",
    " 'pizza': 28,\n",
    " 'sushi': 29}"
   ]
  },
  {
   "cell_type": "code",
   "execution_count": 17,
   "metadata": {},
   "outputs": [
    {
     "name": "stdout",
     "output_type": "stream",
     "text": [
      "Clase predicha: Fries (3)\n"
     ]
    }
   ],
   "source": [
    "predicted_class = np.argmax(output_tensor, axis=1)\n",
    "# Imprimir la clase predicha\n",
    "print(f'Clase predicha: {list(class_name)[predicted_class[0]]} ({predicted_class[0]})')"
   ]
  }
 ],
 "metadata": {
  "kernelspec": {
   "display_name": "Python 3",
   "language": "python",
   "name": "python3"
  },
  "language_info": {
   "codemirror_mode": {
    "name": "ipython",
    "version": 3
   },
   "file_extension": ".py",
   "mimetype": "text/x-python",
   "name": "python",
   "nbconvert_exporter": "python",
   "pygments_lexer": "ipython3",
   "version": "3.10.11"
  }
 },
 "nbformat": 4,
 "nbformat_minor": 2
}
