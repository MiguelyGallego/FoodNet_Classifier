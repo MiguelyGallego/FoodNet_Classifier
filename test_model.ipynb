{
  "nbformat": 4,
  "nbformat_minor": 0,
  "metadata": {
    "colab": {
      "provenance": []
    },
    "kernelspec": {
      "name": "python3",
      "display_name": "Python 3"
    },
    "language_info": {
      "name": "python"
    }
  },
  "cells": [
    {
      "cell_type": "code",
      "source": [
        "# ! apt-get install unrar\n",
        "# ! unrar x /content/model.rarq\n",
        "# ! mkdir /content/new_imgs"
      ],
      "metadata": {
        "id": "rdPYYmrtVhPw"
      },
      "execution_count": 25,
      "outputs": []
    },
    {
      "cell_type": "code",
      "execution_count": 21,
      "metadata": {
        "id": "hwzp9midTx6J"
      },
      "outputs": [],
      "source": [
        "import os\n",
        "import numpy as np\n",
        "from keras.preprocessing import image\n",
        "from keras.applications.vgg19 import preprocess_input\n",
        "from keras.models import load_model\n",
        "\n",
        "import tensorflow as tf\n",
        "import numpy as np\n",
        "from PIL import Image"
      ]
    },
    {
      "cell_type": "code",
      "source": [
        "# Cargar el modelo\n",
        "new_model = load_model('/content/firs_model_version.h5')\n",
        "\n",
        "# Directorio que contiene las imágenes nuevas para predecir\n",
        "new_images_dir = '/content/new_imgs'\n",
        "\n",
        "# Lista de nombres de archivos de imágenes en el directorio\n",
        "image_files = os.listdir(new_images_dir)\n",
        "\n",
        "# Iterar a través de las imágenes en el directorio\n",
        "for image_file in image_files:\n",
        "    # Cargar la imagen y redimensionarla al mismo tamaño que se usa durante el entrenamiento\n",
        "    img_path = os.path.join(new_images_dir, image_file)\n",
        "    img = image.load_img(img_path, target_size=(224, 224))\n",
        "\n",
        "    # Convertir la imagen a un array numpy\n",
        "    img_array = image.img_to_array(img)\n",
        "\n",
        "    # Agregar una dimensión extra para representar el lote (batch)\n",
        "    img_array = np.expand_dims(img_array, axis=0)\n",
        "\n",
        "    # Realizar la predicción utilizando el modelo\n",
        "    prediction = new_model.predict(img_array)\n",
        "\n",
        "    # Las predicciones son un arreglo de probabilidades por clase\n",
        "    # Obtener la etiqueta de clase con la probabilidad más alta\n",
        "    clase_predicha = np.argmax(prediction)\n",
        "    print(f'Clase predicha para {image_file}: {clase_predicha}')"
      ],
      "metadata": {
        "colab": {
          "base_uri": "https://localhost:8080/"
        },
        "id": "2d6D8KgXT5KP",
        "outputId": "24bf3b7a-f966-4a7e-f15e-ac714412ec5e"
      },
      "execution_count": 22,
      "outputs": [
        {
          "output_type": "stream",
          "name": "stdout",
          "text": [
            "1/1 [==============================] - 1s 967ms/step\n",
            "Clase predicha para friedrice.jpg: 18\n",
            "1/1 [==============================] - 1s 605ms/step\n",
            "Clase predicha para applepie.jpg: 8\n",
            "1/1 [==============================] - 1s 599ms/step\n",
            "Clase predicha para donut.jpg: 2\n",
            "1/1 [==============================] - 1s 912ms/step\n",
            "Clase predicha para bakedpotato.jpg: 0\n",
            "1/1 [==============================] - 1s 1s/step\n",
            "Clase predicha para sushi.jpg: 2\n",
            "1/1 [==============================] - 1s 1s/step\n",
            "Clase predicha para fries.jpg: 3\n"
          ]
        }
      ]
    },
    {
      "cell_type": "code",
      "source": [
        "# Ruta al directorio del modelo SavedModel\n",
        "model_dir = '/content/model'\n",
        "\n",
        "# Cargar el modelo SavedModel\n",
        "loaded_model = tf.saved_model.load(model_dir)\n",
        "\n",
        "# Obtener una referencia a la función predict del modelo\n",
        "model_predict = loaded_model.signatures[\"serving_default\"]\n",
        "\n",
        "# Cargar la imagen nueva que deseas clasificar\n",
        "images_path = '/content/new_imgs'  # Reemplaza con la ruta de tu imagen\n",
        "image_path = os.listdir(images_path)\n",
        "\n",
        "for imgs_path in image_path:\n",
        "  image = Image.open(os.path.join(images_path, imgs_path))  # Abre la imagen utilizando Pillow\n",
        "\n",
        "  # Realiza el preprocesamiento necesario en la imagen\n",
        "  input_height, input_width = 128, 128\n",
        "  image = image.resize((input_width, input_height))\n",
        "  image = np.array(image, dtype=np.float32) / 255.0  # Convertir a float32 y normalizar\n",
        "\n",
        "  # Agregar una dimensión adicional para que coincida con el formato de entrada esperado\n",
        "  image = np.expand_dims(image, axis=0)\n",
        "\n",
        "  # Realizar la inferencia en la imagen\n",
        "  output = model_predict(tf.constant(image))\n",
        "\n",
        "  # Las predicciones están en el diccionario 'output'\n",
        "  # Dependiendo del modelo, se podría acceder a las predicciones con output['nombre_del_tensor_de_salida']\n",
        "  # Por ejemplo, si el tensor de salida se llama 'output_tensor', se puede acceder a las predicciones con output['output_tensor']\n",
        "  predictions = output['dense_1']\n",
        "\n",
        "  # Ahora 'predictions' contiene las predicciones del modelo para la imagen\n",
        "  # Se puede convertir las predicciones en la clase predicha (índice de clase) utilizando np.argmax\n",
        "  predicted_class = np.argmax(predictions, axis=1)\n",
        "\n",
        "  # Imprimir la clase predicha\n",
        "  print(f'Clase predicha para {imgs_path}: {predicted_class}')\n"
      ],
      "metadata": {
        "colab": {
          "base_uri": "https://localhost:8080/"
        },
        "id": "lQgquqyfULxo",
        "outputId": "e98206f0-0283-4ab0-e191-b408836e1958"
      },
      "execution_count": 24,
      "outputs": [
        {
          "output_type": "stream",
          "name": "stdout",
          "text": [
            "Clase predicha para friedrice.jpg: [8]\n",
            "Clase predicha para applepie.jpg: [8]\n",
            "Clase predicha para donut.jpg: [13]\n",
            "Clase predicha para bakedpotato.jpg: [8]\n",
            "Clase predicha para sushi.jpg: [33]\n",
            "Clase predicha para fries.jpg: [8]\n"
          ]
        }
      ]
    }
  ]
}