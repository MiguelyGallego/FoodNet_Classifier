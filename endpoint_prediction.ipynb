{
 "cells": [
  {
   "cell_type": "code",
   "execution_count": 1,
   "metadata": {},
   "outputs": [],
   "source": [
    "from google.cloud import aiplatform\n",
    "import numpy as np\n",
    "from PIL import Image"
   ]
  },
  {
   "cell_type": "code",
   "execution_count": 10,
   "metadata": {},
   "outputs": [
    {
     "name": "stderr",
     "output_type": "stream",
     "text": [
      "C:\\Users\\34697\\AppData\\Local\\Temp\\ipykernel_21540\\3767875581.py:7: DeprecationWarning: LANCZOS is deprecated and will be removed in Pillow 10 (2023-07-01). Use Resampling.LANCZOS instead.\n",
      "  im_resize = im.resize((196, 196), Image.LANCZOS)\n"
     ]
    }
   ],
   "source": [
    "PROJECT_NUMBER = '225542939702'\n",
    "ENDPOINT_ID = '3299616802769731584'\n",
    "\n",
    "# Cargar la imagen y redimensionarla a 224x224\n",
    "IMAGE_PATH = \"C:/Users/34697/OneDrive/Escritorio/sample_images/fries.jpg\"\n",
    "im = Image.open(IMAGE_PATH)\n",
    "im_resize = im.resize((196, 196), Image.LANCZOS)\n",
    "img_array = np.array(im_resize)\n",
    "\n",
    "# # Divide la imagen en lotes más pequeños \n",
    "# batch_size = 1\n",
    "# batched_images = np.array_split(img_array, batch_size)\n",
    "\n",
    "# Crear una instancia de Endpoint\n",
    "endpoint = aiplatform.Endpoint(\n",
    "    endpoint_name=f\"projects/{PROJECT_NUMBER}/locations/europe-west1/endpoints/{ENDPOINT_ID}\"\n",
    ")\n",
    "\n",
    "# # Enviar cada lote por separado a la API\n",
    "# predictions = []\n",
    "# for batch in batched_images:\n",
    "#     batch_predictions = endpoint.predict(instances=[batch.tolist()])\n",
    "#     predictions.extend(batch_predictions)\n",
    "\n",
    "# # Ahora \"predictions\" contendrá las predicciones para cada lote, y combinarlas si es necesario.\n",
    "x_img = [np.asarray(im_resize).astype(np.float32).tolist()]\n",
    "\n",
    "predictions = endpoint.predict(instances=x_img).predictions"
   ]
  },
  {
   "cell_type": "code",
   "execution_count": 11,
   "metadata": {},
   "outputs": [
    {
     "name": "stdout",
     "output_type": "stream",
     "text": [
      "Clase predicha: Fries (3)\n"
     ]
    }
   ],
   "source": [
    "class_name = {'Baked Potato': 0,\n",
    " 'Crispy Chicken': 1,\n",
    " 'Donut': 2,\n",
    " 'Fries': 3,\n",
    " 'Hot Dog': 4,\n",
    " 'Sandwich': 5,\n",
    " 'Taco': 6,\n",
    " 'Taquito': 7,\n",
    " 'apple_pie': 8,\n",
    " 'burger': 9,\n",
    " 'butter_naan': 10,\n",
    " 'chai': 11,\n",
    " 'chapati': 12,\n",
    " 'cheesecake': 13,\n",
    " 'chicken_curry': 14,\n",
    " 'chole_bhature': 15,\n",
    " 'dal_makhani': 16,\n",
    " 'fried_rice': 17,\n",
    " 'ice_cream': 18,\n",
    " 'idli': 19,\n",
    " 'jalebi': 20,\n",
    " 'kaathi_rolls': 21,\n",
    " 'kadai_paneer': 22,\n",
    " 'masala_dosa': 23,\n",
    " 'momos': 24,\n",
    " 'omelette': 25,\n",
    " 'pakode': 26,\n",
    " 'pav_bhaji': 27,\n",
    " 'pizza': 28,\n",
    " 'sushi': 29}\n",
    "\n",
    "predicted_class = np.argmax(predictions, axis=1)\n",
    "\n",
    "# Imprimir la clase predicha\n",
    "print(f'Clase predicha: {list(class_name)[predicted_class[0]]} ({predicted_class[0]})')"
   ]
  }
 ],
 "metadata": {
  "kernelspec": {
   "display_name": "Python 3",
   "language": "python",
   "name": "python3"
  },
  "language_info": {
   "codemirror_mode": {
    "name": "ipython",
    "version": 3
   },
   "file_extension": ".py",
   "mimetype": "text/x-python",
   "name": "python",
   "nbconvert_exporter": "python",
   "pygments_lexer": "ipython3",
   "version": "3.10.11"
  }
 },
 "nbformat": 4,
 "nbformat_minor": 2
}
