{
 "cells": [
  {
   "cell_type": "code",
   "execution_count": 2,
   "metadata": {},
   "outputs": [],
   "source": [
    "from google.cloud import aiplatform\n",
    "import numpy as np\n",
    "from PIL import Image\n",
    "import cv2"
   ]
  },
  {
   "cell_type": "code",
   "execution_count": 29,
   "metadata": {},
   "outputs": [],
   "source": [
    "def prediction_request (IMAGE_PATH, PROJECT_NUMBER, ENDPOINT_ID):\n",
    "\n",
    "    \"\"\"\n",
    "     Make a prediction request using a model deployed on Google Cloud AI Platform.\n",
    "\n",
    "     Parameters:\n",
    "     - IMAGE_PATH: Path to the image file for prediction.\n",
    "     - PROJECT_NUMBER: Project number in Google Cloud.\n",
    "     - ENDPOINT_ID: ID of the endpoint on which the model has been deployed.\n",
    "\n",
    "     Returns:\n",
    "     - predicted_class: The class predicted by the model.\n",
    "\n",
    "     This function loads an image, resizes it, and sends it to the model at the specified endpoint.\n",
    "     Then, it returns the class predicted by the model.\n",
    "     \"\"\"\n",
    "    \n",
    "    # Cargar la imagen y redimensionarla\n",
    "    im = Image.open(IMAGE_PATH)\n",
    "    input_height, input_width = 200, 200\n",
    "    im_resize = im.resize((input_width, input_height))\n",
    "    im_array = np.array(im_resize, dtype=np.float32) / 255.0  # Convertir a float32 y normalizar\n",
    "    img_bgr = cv2.cvtColor(im_array, cv2.COLOR_RGB2BGR)\n",
    "    img_list = [img_bgr.tolist()]\n",
    "    \n",
    "\n",
    "\n",
    "    # Crear una instancia de Endpoint\n",
    "    endpoint = aiplatform.Endpoint(\n",
    "        endpoint_name=f\"projects/{PROJECT_NUMBER}/locations/europe-west1/endpoints/{ENDPOINT_ID}\"\n",
    "    )\n",
    "\n",
    "    # Hace la petición de predicción\n",
    "    predictions = endpoint.predict(instances=img_list).predictions\n",
    "    predicted_class = np.argmax(predictions, axis=1)\n",
    "\n",
    "    return predicted_class"
   ]
  },
  {
   "cell_type": "code",
   "execution_count": 32,
   "metadata": {},
   "outputs": [
    {
     "name": "stdout",
     "output_type": "stream",
     "text": [
      "Clase predicha: burger (9)\n"
     ]
    }
   ],
   "source": [
    "class_name = {'Baked Potato': 0,\n",
    " 'Crispy Chicken': 1,\n",
    " 'Donut': 2,\n",
    " 'Fries': 3,\n",
    " 'Hot Dog': 4,\n",
    " 'Sandwich': 5,\n",
    " 'Taco': 6,\n",
    " 'Taquito': 7,\n",
    " 'apple_pie': 8,\n",
    " 'burger': 9,\n",
    " 'butter_naan': 10,\n",
    " 'chai': 11,\n",
    " 'chapati': 12,\n",
    " 'cheesecake': 13,\n",
    " 'chicken_curry': 14,\n",
    " 'chole_bhature': 15,\n",
    " 'dal_makhani': 16,\n",
    " 'fried_rice': 17,\n",
    " 'ice_cream': 18,\n",
    " 'idli': 19,\n",
    " 'jalebi': 20,\n",
    " 'kaathi_rolls': 21,\n",
    " 'kadai_paneer': 22,\n",
    " 'masala_dosa': 23,\n",
    " 'momos': 24,\n",
    " 'omelette': 25,\n",
    " 'pakode': 26,\n",
    " 'pav_bhaji': 27,\n",
    " 'pizza': 28,\n",
    " 'sushi': 29}\n",
    "\n",
    "IMAGE_PATH = f\"C:/Users/34697/OneDrive/Escritorio/sample_images/p_prediction/burguer.jpg\"\n",
    "PROJECT_NUMBER = '225542939702'\n",
    "ENDPOINT_ID = '4136160433553801216'\n",
    "\n",
    "\n",
    "request_response = prediction_request(IMAGE_PATH, PROJECT_NUMBER, ENDPOINT_ID)\n",
    "\n",
    "# Imprimir la clase predicha\n",
    "print(f'Clase predicha: {list(class_name)[request_response[0]]} ({request_response[0]})')"
   ]
  }
 ],
 "metadata": {
  "kernelspec": {
   "display_name": "Python 3",
   "language": "python",
   "name": "python3"
  },
  "language_info": {
   "codemirror_mode": {
    "name": "ipython",
    "version": 3
   },
   "file_extension": ".py",
   "mimetype": "text/x-python",
   "name": "python",
   "nbconvert_exporter": "python",
   "pygments_lexer": "ipython3",
   "version": "3.10.11"
  }
 },
 "nbformat": 4,
 "nbformat_minor": 2
}
